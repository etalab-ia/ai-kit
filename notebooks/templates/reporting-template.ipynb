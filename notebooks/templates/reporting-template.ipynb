{
 "cells": [
  {
   "cell_type": "markdown",
   "id": "7fb27b941602401d91542211134fc71a",
   "metadata": {},
   "source": [
    "# Report: [Report Title]\n",
    "\n",
    "**Category**: reporting\n",
    "**Purpose**: [What does this report show?]\n",
    "**Author**: [Your Name]\n",
    "**Created**: [YYYY-MM-DD]\n",
    "**Data Sources**: \n",
    "- [List your data sources]\n",
    "\n",
    "**Dependencies**:\n",
    "- [List key dependencies]\n",
    "\n",
    "**Parameters**: [e.g., date_range, model_version]\n",
    "**Schedule**: [e.g., weekly, monthly]\n",
    "**Recipients**: [Who receives this report?]\n",
    "\n",
    "## Papermill Parameters\n",
    "\n",
    "This notebook can be executed with papermill for automated reporting:\n",
    "\n",
    "```bash\n",
    "papermill reporting-template.ipynb output-report.ipynb \\\n",
    "  -p start_date '2024-01-01' \\\n",
    "  -p end_date '2024-01-31'\n",
    "```"
   ]
  },
  {
   "cell_type": "code",
   "execution_count": null,
   "id": "acae54e37e7d407bbb7b55eff062a284",
   "metadata": {
    "tags": [
     "parameters"
    ]
   },
   "outputs": [],
   "source": [
    "# Parameters (tagged for papermill)\n",
    "start_date = \"2024-01-01\"\n",
    "end_date = \"2024-01-31\"\n",
    "model_version = \"v1.0\""
   ]
  },
  {
   "cell_type": "code",
   "execution_count": null,
   "id": "9a63283cbaf04dbcab1f6479b197f3a8",
   "metadata": {},
   "outputs": [],
   "source": [
    "# Standard imports\n",
    "\n",
    "%matplotlib inline"
   ]
  },
  {
   "cell_type": "markdown",
   "id": "8dd0d8092fe74a7c96281538738b07e2",
   "metadata": {},
   "source": [
    "## Data Loading"
   ]
  },
  {
   "cell_type": "code",
   "execution_count": null,
   "id": "72eea5119410473aa328ad9291626812",
   "metadata": {},
   "outputs": [],
   "source": [
    "# Load data for reporting period\n",
    "# df = pd.read_csv('data/metrics.csv')\n",
    "# df = df[(df['date'] >= start_date) & (df['date'] <= end_date)]"
   ]
  },
  {
   "cell_type": "markdown",
   "id": "8edb47106e1a46a883d545849b8ab81b",
   "metadata": {},
   "source": [
    "## Key Metrics"
   ]
  },
  {
   "cell_type": "code",
   "execution_count": null,
   "id": "10185d26023b46108eb7d9f57d49d2b3",
   "metadata": {},
   "outputs": [],
   "source": [
    "# Calculate and display key metrics\n",
    "# metric_1 = df['value'].mean()\n",
    "# print(f'Average: {metric_1:.2f}')"
   ]
  },
  {
   "cell_type": "markdown",
   "id": "8763a12b2bbd4a93a75aff182afb95dc",
   "metadata": {},
   "source": [
    "## Visualizations"
   ]
  },
  {
   "cell_type": "code",
   "execution_count": null,
   "id": "7623eae2785240b9bd12b16a66d81610",
   "metadata": {},
   "outputs": [],
   "source": [
    "# Create visualizations\n",
    "# plt.figure(figsize=(10, 6))\n",
    "# df.plot(x='date', y='value')\n",
    "# plt.title(f'Metrics from {start_date} to {end_date}')\n",
    "# plt.show()"
   ]
  },
  {
   "cell_type": "markdown",
   "id": "7cdc8c89c7104fffa095e18ddfef8986",
   "metadata": {},
   "source": [
    "## Summary\n",
    "\n",
    "### Period: {start_date} to {end_date}\n",
    "\n",
    "- [Key finding 1]\n",
    "- [Key finding 2]\n",
    "- [Key finding 3]\n",
    "\n",
    "### Recommendations\n",
    "\n",
    "- [Recommendation 1]\n",
    "- [Recommendation 2]"
   ]
  },
  {
   "cell_type": "markdown",
   "id": "b118ea5561624da68c537baed56e602f",
   "metadata": {},
   "source": [
    "## Export\n",
    "\n",
    "Convert to HTML for distribution:\n",
    "```bash\n",
    "jupyter nbconvert --to html output-report.ipynb\n",
    "```"
   ]
  }
 ],
 "metadata": {
  "kernelspec": {
   "display_name": "Python 3",
   "language": "python",
   "name": "python3"
  },
  "language_info": {
   "name": "python",
   "version": "3.12.0"
  }
 },
 "nbformat": 4,
 "nbformat_minor": 5
}
