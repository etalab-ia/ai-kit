{
 "cells": [
  {
   "cell_type": "markdown",
   "id": "7fb27b941602401d91542211134fc71a",
   "metadata": {},
   "source": [
    "# Exploratory Analysis**Category**: exploratory**Purpose**: [What question does this notebook answer?]**Author**: [Your Name]**Created**: [YYYY-MM-DD]**Data Sources**:- Path: `data/your-dataset.csv`- Version/Date: YYYY-MM-DD- Access method: Local file / API / Database- Size: ~X MB- Schema: Describe key columns**Dependencies**:```# Add to pyproject.toml or requirements.txtpandas>=2.1.0matplotlib>=3.8.0seaborn>=0.13.0```**Environment**:- Python: 3.12+- Workspace: ai-kit (uv workspace)## ContextThis is an exploratory notebook for rapid experimentation. No SpecKit workflow required.## Expected Outcomes- Document key findings- Identify patterns or insights- Determine next steps for production implementation## Migration NotesWhen migrating insights to production:1. Extract validated code to appropriate package2. Document migration in feature spec with commit SHA3. Delete this notebook (git history preserves it)"
   ]
  },
  {
   "cell_type": "code",
   "execution_count": null,
   "id": "acae54e37e7d407bbb7b55eff062a284",
   "metadata": {},
   "outputs": [],
   "source": [
    "# Standard imports\n",
    "\n",
    "# Configure matplotlib\n",
    "%matplotlib inline"
   ]
  },
  {
   "cell_type": "code",
   "execution_count": null,
   "id": "9a63283cbaf04dbcab1f6479b197f3a8",
   "metadata": {},
   "outputs": [],
   "source": [
    "# Load data\n",
    "# df = pd.read_csv('data/your-dataset.csv')"
   ]
  }
 ],
 "metadata": {
  "kernelspec": {
   "display_name": "Python 3",
   "language": "python",
   "name": "python3"
  },
  "language_info": {
   "name": "python",
   "version": "3.12.0"
  }
 },
 "nbformat": 4,
 "nbformat_minor": 5
}
