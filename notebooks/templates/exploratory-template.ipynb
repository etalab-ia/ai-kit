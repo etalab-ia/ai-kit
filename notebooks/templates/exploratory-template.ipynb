{
 "cells": [
  {
   "cell_type": "markdown",
   "id": "7fb27b941602401d91542211134fc71a",
   "metadata": {},
   "source": [
    "# Exploratory Analysis\n",
    "\n",
    "**Category**: exploratory\n",
    "**Purpose**: [What question does this notebook answer?]\n",
    "**Author**: [Your Name]\n",
    "**Created**: [YYYY-MM-DD]\n",
    "**Data Sources**: \n",
    "- [List your data sources]\n",
    "\n",
    "**Dependencies**:\n",
    "- [List key dependencies]\n",
    "\n",
    "## Context\n",
    "\n",
    "This is an exploratory notebook for rapid experimentation. No SpecKit workflow required.\n",
    "\n",
    "## Expected Outcomes\n",
    "\n",
    "- Document key findings\n",
    "- Identify patterns or insights\n",
    "- Determine next steps for production implementation\n",
    "\n",
    "## Migration Notes\n",
    "\n",
    "When migrating insights to production:\n",
    "1. Extract validated code to appropriate package\n",
    "2. Document migration in feature spec with commit SHA\n",
    "3. Delete this notebook (git history preserves it)"
   ]
  },
  {
   "cell_type": "code",
   "execution_count": null,
   "id": "acae54e37e7d407bbb7b55eff062a284",
   "metadata": {},
   "outputs": [],
   "source": [
    "# Standard imports\n",
    "\n",
    "# Configure matplotlib\n",
    "%matplotlib inline"
   ]
  },
  {
   "cell_type": "code",
   "execution_count": null,
   "id": "9a63283cbaf04dbcab1f6479b197f3a8",
   "metadata": {},
   "outputs": [],
   "source": [
    "# Load data\n",
    "# df = pd.read_csv('data/your-dataset.csv')"
   ]
  }
 ],
 "metadata": {
  "kernelspec": {
   "display_name": "Python 3",
   "language": "python",
   "name": "python3"
  },
  "language_info": {
   "name": "python",
   "version": "3.12.0"
  }
 },
 "nbformat": 4,
 "nbformat_minor": 5
}
