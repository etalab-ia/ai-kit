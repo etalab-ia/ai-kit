{
 "cells": [
  {
   "cell_type": "markdown",
   "id": "7fb27b941602401d91542211134fc71a",
   "metadata": {},
   "source": [
    "# Compliance Documentation: [System Name]\n",
    "\n",
    "**Category**: compliance\n",
    "**Purpose**: [What compliance requirement does this document?]\n",
    "**Author**: [Your Name]\n",
    "**Created**: [YYYY-MM-DD]\n",
    "**Data Sources**: \n",
    "- [List your data sources]\n",
    "\n",
    "**Dependencies**:\n",
    "- [List key dependencies]\n",
    "\n",
    "**Risk Level**: [low/medium/high]\n",
    "**Regulatory Framework**: [e.g., EU AI Act, GDPR]\n",
    "**Review Date**: [YYYY-MM-DD]\n",
    "\n",
    "## EU AI Act Compliance Checklist\n",
    "\n",
    "For high-risk AI systems under EU AI Act:\n",
    "\n",
    "### Training Data Documentation\n",
    "- [ ] Data sources identified and documented\n",
    "- [ ] Data quality assessment completed\n",
    "- [ ] Bias analysis performed\n",
    "- [ ] Data governance procedures documented\n",
    "\n",
    "### Risk Assessment\n",
    "- [ ] Risk level classification completed\n",
    "- [ ] Potential harms identified\n",
    "- [ ] Mitigation measures documented\n",
    "- [ ] Residual risks assessed\n",
    "\n",
    "### Model Selection & Validation\n",
    "- [ ] Model selection rationale documented\n",
    "- [ ] Validation methodology defined\n",
    "- [ ] Performance metrics documented\n",
    "- [ ] Limitations identified\n",
    "\n",
    "### Human Oversight\n",
    "- [ ] Human oversight mechanisms defined\n",
    "- [ ] Override procedures documented\n",
    "- [ ] Monitoring processes established\n",
    "\n",
    "### Transparency & Documentation\n",
    "- [ ] System purpose clearly documented\n",
    "- [ ] Technical documentation complete\n",
    "- [ ] User instructions provided\n",
    "- [ ] Audit trail established"
   ]
  },
  {
   "cell_type": "markdown",
   "id": "acae54e37e7d407bbb7b55eff062a284",
   "metadata": {},
   "source": [
    "## Training Data Characteristics"
   ]
  },
  {
   "cell_type": "code",
   "execution_count": null,
   "id": "9a63283cbaf04dbcab1f6479b197f3a8",
   "metadata": {},
   "outputs": [],
   "source": [
    "# Document training data characteristics\n",
    "\n",
    "# Load and analyze training data\n",
    "# training_data = pd.read_csv('data/training-data.csv')\n",
    "# print(f'Dataset size: {len(training_data)}')\n",
    "# print(f'Features: {training_data.columns.tolist()}')"
   ]
  },
  {
   "cell_type": "markdown",
   "id": "8dd0d8092fe74a7c96281538738b07e2",
   "metadata": {},
   "source": [
    "## Risk Assessment Findings"
   ]
  },
  {
   "cell_type": "markdown",
   "id": "72eea5119410473aa328ad9291626812",
   "metadata": {},
   "source": [
    "### Identified Risks\n",
    "1. [Risk 1]: [Description and severity]\n",
    "2. [Risk 2]: [Description and severity]\n",
    "\n",
    "### Mitigation Measures\n",
    "1. [Mitigation for Risk 1]\n",
    "2. [Mitigation for Risk 2]\n",
    "\n",
    "### Residual Risks\n",
    "- [Remaining risks after mitigation]"
   ]
  },
  {
   "cell_type": "markdown",
   "id": "8edb47106e1a46a883d545849b8ab81b",
   "metadata": {},
   "source": [
    "## Model Selection Audit Trail"
   ]
  },
  {
   "cell_type": "markdown",
   "id": "10185d26023b46108eb7d9f57d49d2b3",
   "metadata": {},
   "source": [
    "### Models Considered\n",
    "1. [Model 1]: [Rationale for consideration/rejection]\n",
    "2. [Model 2]: [Rationale for consideration/rejection]\n",
    "\n",
    "### Selected Model\n",
    "- Model: [Selected model]\n",
    "- Rationale: [Why this model was chosen]\n",
    "- Trade-offs: [Acknowledged trade-offs]"
   ]
  },
  {
   "cell_type": "markdown",
   "id": "8763a12b2bbd4a93a75aff182afb95dc",
   "metadata": {},
   "source": [
    "## Validation & Testing"
   ]
  },
  {
   "cell_type": "code",
   "execution_count": null,
   "id": "7623eae2785240b9bd12b16a66d81610",
   "metadata": {},
   "outputs": [],
   "source": [
    "# Document validation results\n",
    "# Reference evaluation notebook: notebooks/evaluations/[evaluation-notebook].ipynb"
   ]
  },
  {
   "cell_type": "markdown",
   "id": "7cdc8c89c7104fffa095e18ddfef8986",
   "metadata": {},
   "source": [
    "## Compliance Officer Review\n",
    "\n",
    "This notebook should be reviewed by a compliance officer before production deployment.\n",
    "\n",
    "After review, create git tag:\n",
    "```bash\n",
    "git tag -a compliance/[system]-[version]-[date] -m \"Compliance review completed\"\n",
    "```\n",
    "\n",
    "### Review Checklist\n",
    "- [ ] All sections completed\n",
    "- [ ] Risk assessment thorough\n",
    "- [ ] Documentation meets regulatory requirements\n",
    "- [ ] Audit trail established\n",
    "- [ ] Ready for homologation dossier"
   ]
  }
 ],
 "metadata": {
  "kernelspec": {
   "display_name": "Python 3",
   "language": "python",
   "name": "python3"
  },
  "language_info": {
   "name": "python",
   "version": "3.12.0"
  }
 },
 "nbformat": 4,
 "nbformat_minor": 5
}
