{
 "cells": [
  {
   "cell_type": "markdown",
   "id": "01f89e4d",
   "metadata": {},
   "source": [
    "# Weekly Metrics Report\n",
    "\n",
    "**Category**: reporting\n",
    "**Purpose**: Generate weekly metrics summary for stakeholders\n",
    "**Author**: AI-Kit Team\n",
    "**Created**: 2024-10-15\n",
    "**Data Sources**:\n",
    "- Path: `data/metrics.csv` (simulated)\n",
    "- Version/Date: Weekly refresh\n",
    "- Access method: Local file\n",
    "- Size: ~100 KB\n",
    "- Schema: date (datetime), metric_name (str), value (float)\n",
    "\n",
    "**Dependencies**:\n",
    "```\n",
    "pandas>=2.1.0\n",
    "matplotlib>=3.8.0\n",
    "```\n",
    "\n",
    "**Environment**:\n",
    "- Python: 3.12+\n",
    "- Workspace: ai-kit (uv workspace)\n",
    "\n",
    "**Execution**:\n",
    "```bash\n",
    "# Run with papermill\n",
    "papermill example-report.ipynb output-2024-10-15.ipynb \\\n",
    "  -p start_date 2024-10-08 \\\n",
    "  -p end_date 2024-10-15\n",
    "\n",
    "# Convert to HTML\n",
    "jupyter nbconvert output-2024-10-15.ipynb --to html\n",
    "```"
   ]
  },
  {
   "cell_type": "code",
   "execution_count": null,
   "id": "4b4ef2e9",
   "metadata": {
    "tags": [
     "parameters"
    ]
   },
   "outputs": [],
   "source": [
    "# Parameters (papermill will inject values here)\n",
    "start_date = \"2024-10-01\"  # Report start date (YYYY-MM-DD)\n",
    "end_date = \"2024-10-07\"  # Report end date (YYYY-MM-DD)\n",
    "output_format = \"html\"  # Output format: html, pdf, markdown"
   ]
  },
  {
   "cell_type": "code",
   "execution_count": null,
   "id": "0d56615f",
   "metadata": {},
   "outputs": [],
   "source": [
    "import matplotlib.pyplot as plt\n",
    "import pandas as pd\n",
    "\n",
    "# Configure matplotlib\n",
    "%matplotlib inline\n",
    "plt.style.use(\"seaborn-v0_8-darkgrid\")\n",
    "\n",
    "print(f\"Generating report for {start_date} to {end_date}\")"
   ]
  },
  {
   "cell_type": "code",
   "execution_count": null,
   "id": "1237da09",
   "metadata": {},
   "outputs": [],
   "source": [
    "# Generate sample data for demonstration\n",
    "# In production, replace with actual data loading\n",
    "\n",
    "date_range = pd.date_range(start=start_date, end=end_date, freq=\"D\")\n",
    "metrics_data = {\n",
    "    \"date\": date_range,\n",
    "    \"api_calls\": [1000 + i * 50 for i in range(len(date_range))],\n",
    "    \"response_time_ms\": [150 + (i % 3) * 10 for i in range(len(date_range))],\n",
    "    \"error_rate\": [0.01 + (i % 5) * 0.002 for i in range(len(date_range))],\n",
    "}\n",
    "\n",
    "df = pd.DataFrame(metrics_data)\n",
    "print(f\"Loaded {len(df)} days of metrics\")\n",
    "df.head()"
   ]
  },
  {
   "cell_type": "code",
   "execution_count": null,
   "id": "4a9a6e1f",
   "metadata": {},
   "outputs": [],
   "source": [
    "# Calculate summary statistics\n",
    "summary = {\n",
    "    \"Total API Calls\": df[\"api_calls\"].sum(),\n",
    "    \"Avg Response Time (ms)\": df[\"response_time_ms\"].mean(),\n",
    "    \"Avg Error Rate (%)\": df[\"error_rate\"].mean() * 100,\n",
    "    \"Peak API Calls\": df[\"api_calls\"].max(),\n",
    "    \"Date of Peak\": df.loc[df[\"api_calls\"].idxmax(), \"date\"].strftime(\"%Y-%m-%d\"),\n",
    "}\n",
    "\n",
    "for key, value in summary.items():\n",
    "    if isinstance(value, float):\n",
    "        print(f\"{key}: {value:.2f}\")\n",
    "    else:\n",
    "        print(f\"{key}: {value}\")"
   ]
  },
  {
   "cell_type": "code",
   "execution_count": null,
   "id": "dc2dcbe0",
   "metadata": {},
   "outputs": [],
   "source": [
    "# Create visualizations\n",
    "fig, axes = plt.subplots(3, 1, figsize=(12, 10))\n",
    "\n",
    "# API Calls over time\n",
    "axes[0].plot(df[\"date\"], df[\"api_calls\"], marker=\"o\", linewidth=2)\n",
    "axes[0].set_title(\"API Calls Over Time\", fontsize=14, fontweight=\"bold\")\n",
    "axes[0].set_ylabel(\"Number of Calls\")\n",
    "axes[0].grid(True, alpha=0.3)\n",
    "\n",
    "# Response Time over time\n",
    "axes[1].plot(df[\"date\"], df[\"response_time_ms\"], marker=\"s\", color=\"orange\", linewidth=2)\n",
    "axes[1].set_title(\"Response Time Over Time\", fontsize=14, fontweight=\"bold\")\n",
    "axes[1].set_ylabel(\"Response Time (ms)\")\n",
    "axes[1].grid(True, alpha=0.3)\n",
    "\n",
    "# Error Rate over time\n",
    "axes[2].plot(df[\"date\"], df[\"error_rate\"] * 100, marker=\"^\", color=\"red\", linewidth=2)\n",
    "axes[2].set_title(\"Error Rate Over Time\", fontsize=14, fontweight=\"bold\")\n",
    "axes[2].set_ylabel(\"Error Rate (%)\")\n",
    "axes[2].set_xlabel(\"Date\")\n",
    "axes[2].grid(True, alpha=0.3)\n",
    "\n",
    "plt.tight_layout()\n",
    "plt.show()"
   ]
  },
  {
   "cell_type": "markdown",
   "id": "ec765e00",
   "metadata": {},
   "source": [
    "## Conclusion\n",
    "\n",
    "This report demonstrates:\n",
    "- ✅ Parameterized execution with papermill\n",
    "- ✅ Automated data loading and analysis\n",
    "- ✅ Visualization generation\n",
    "- ✅ Summary statistics\n",
    "\n",
    "**Next Steps**:\n",
    "1. Replace simulated data with actual data source\n",
    "2. Add more metrics as needed\n",
    "3. Schedule automated execution\n",
    "4. Distribute HTML reports to stakeholders"
   ]
  }
 ],
 "metadata": {
  "kernelspec": {
   "display_name": "Python 3",
   "language": "python",
   "name": "python3"
  },
  "language_info": {
   "name": "python",
   "version": "3.12.0"
  }
 },
 "nbformat": 4,
 "nbformat_minor": 5
}
